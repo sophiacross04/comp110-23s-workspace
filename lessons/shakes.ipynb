{
 "cells": [
  {
   "attachments": {},
   "cell_type": "markdown",
   "metadata": {},
   "source": [
    "# Quantifying Shakespeare\n",
    "Analyzing the frequencies of different letters in Shakespeare's work.\n",
    "\n",
    "(Data from: bit.ly/shakespeare-txt)\n",
    "\n",
    "In this Notebook, we will:\n",
    "1. Read all of Shakespeare's works into a list of strings\n",
    "2. Count the frequencies of letters used\n",
    "2. Visualize the frequencies with a bar graph"
   ]
  },
  {
   "attachments": {},
   "cell_type": "markdown",
   "metadata": {},
   "source": [
    "# Reading Lines"
   ]
  },
  {
   "cell_type": "code",
   "execution_count": 1,
   "metadata": {},
   "outputs": [
    {
     "name": "stdout",
     "output_type": "stream",
     "text": [
      "124456\n"
     ]
    }
   ],
   "source": [
    "from io import TextIOWrapper\n",
    "\n",
    "def read_lines(filename: str) -> list[str]:\n",
    "    \"\"\"Read a text file into a list of strings for each line\"\"\"\n",
    "    lines: list[str] = list()\n",
    "    file_handle: TextIOWrapper = open(filename, \"r\")\n",
    "    for line in file_handle:\n",
    "        # strip leading and tailing whitespaces \" a \" -> \"a\"\n",
    "        line = line.strip()\n",
    "        # make every character lowercase\n",
    "        line = line.lower()\n",
    "        lines.append(line)\n",
    "    file_handle.close()\n",
    "    return lines\n",
    "\n",
    "shakespeare_lines: list[str] = read_lines(\"../data/t8.shakespeare.txt\")\n",
    "print(len(shakespeare_lines))\n"
   ]
  },
  {
   "attachments": {},
   "cell_type": "markdown",
   "metadata": {},
   "source": [
    "# Tally function"
   ]
  },
  {
   "cell_type": "code",
   "execution_count": 2,
   "metadata": {},
   "outputs": [
    {
     "name": "stdout",
     "output_type": "stream",
     "text": [
      "{'a': 1}\n",
      "{'a': 2}\n",
      "{'a': 2, 'b': 1}\n"
     ]
    }
   ],
   "source": [
    "def tally(counts: dict[str, int], key: str) -> None:\n",
    "    \"\"\"Mutates counts by increasing the value stored at key by 1\"\"\"\n",
    "    if key in counts:\n",
    "        counts[key] += 1\n",
    "    else:\n",
    "        counts[key] = 1"
   ]
  },
  {
   "cell_type": "code",
   "execution_count": 7,
   "metadata": {},
   "outputs": [
    {
     "name": "stdout",
     "output_type": "stream",
     "text": [
      "{'t': 329775, 'h': 236868, 'i': 253990, 's': 248989, 'e': 447204, 'x': 5294, 'f': 80516, 'l': 170019, 'p': 58464, 'r': 237864, 'n': 243262, 'd': 149462, 'b': 61956, 'y': 94370, 'o': 314600, 'j': 4779, 'c': 88185, 'g': 68199, 'u': 128947, 'a': 289150, 'w': 89390, 'm': 111452, 'k': 35408, 'v': 37569, 'z': 1631, 'q': 3582}\n"
     ]
    }
   ],
   "source": [
    "def count_letters(lines: list[str]) -> dict[str, int]:\n",
    "    \"\"\"Counts the frequencies of letters in a list of strings\"\"\"\n",
    "    counts: dict[str, int] = {}\n",
    "    for elem in lines:\n",
    "        for idx in range(0, len(elem), 1):\n",
    "            if elem[idx].isalpha():\n",
    "                tally(counts, elem[idx])\n",
    "    return counts\n",
    "\n",
    "shakes_letters: dict[str, int] = count_letters(shakespeare_lines)\n",
    "print(shakes_letters)\n"
   ]
  },
  {
   "attachments": {},
   "cell_type": "markdown",
   "metadata": {},
   "source": [
    "# Sorting Dictionaries"
   ]
  },
  {
   "cell_type": "code",
   "execution_count": 12,
   "metadata": {},
   "outputs": [
    {
     "name": "stdout",
     "output_type": "stream",
     "text": [
      "[('t', 329775), ('h', 236868), ('i', 253990), ('s', 248989), ('e', 447204), ('x', 5294), ('f', 80516), ('l', 170019), ('p', 58464), ('r', 237864), ('n', 243262), ('d', 149462), ('b', 61956), ('y', 94370), ('o', 314600), ('j', 4779), ('c', 88185), ('g', 68199), ('u', 128947), ('a', 289150), ('w', 89390), ('m', 111452), ('k', 35408), ('v', 37569), ('z', 1631), ('q', 3582)]\n",
      "[('a', 289150), ('b', 61956), ('c', 88185), ('d', 149462), ('e', 447204), ('f', 80516), ('g', 68199), ('h', 236868), ('i', 253990), ('j', 4779), ('k', 35408), ('l', 170019), ('m', 111452), ('n', 243262), ('o', 314600), ('p', 58464), ('q', 3582), ('r', 237864), ('s', 248989), ('t', 329775), ('u', 128947), ('v', 37569), ('w', 89390), ('x', 5294), ('y', 94370), ('z', 1631)]\n"
     ]
    },
    {
     "data": {
      "text/plain": [
       "{'a': 289150,\n",
       " 'b': 61956,\n",
       " 'c': 88185,\n",
       " 'd': 149462,\n",
       " 'e': 447204,\n",
       " 'f': 80516,\n",
       " 'g': 68199,\n",
       " 'h': 236868,\n",
       " 'i': 253990,\n",
       " 'j': 4779,\n",
       " 'k': 35408,\n",
       " 'l': 170019,\n",
       " 'm': 111452,\n",
       " 'n': 243262,\n",
       " 'o': 314600,\n",
       " 'p': 58464,\n",
       " 'q': 3582,\n",
       " 'r': 237864,\n",
       " 's': 248989,\n",
       " 't': 329775,\n",
       " 'u': 128947,\n",
       " 'v': 37569,\n",
       " 'w': 89390,\n",
       " 'x': 5294,\n",
       " 'y': 94370,\n",
       " 'z': 1631}"
      ]
     },
     "execution_count": 12,
     "metadata": {},
     "output_type": "execute_result"
    }
   ],
   "source": [
    "# Make my dictionary a list\n",
    "list_version_shakes: list[tuple[str, int]] = list(shakes_letters.items())\n",
    "print(list_version_shakes)\n",
    "# Sort a list\n",
    "sorted_letters_list = sorted(list_version_shakes)\n",
    "print(sorted_letters_list)\n",
    "sorted_letters_dict = dict(sorted_letters_list)\n",
    "sorted_letters_dict"
   ]
  },
  {
   "cell_type": "code",
   "execution_count": 13,
   "metadata": {},
   "outputs": [
    {
     "data": {
      "text/plain": [
       "<BarContainer object of 26 artists>"
      ]
     },
     "execution_count": 13,
     "metadata": {},
     "output_type": "execute_result"
    },
    {
     "data": {
      "image/png": "[encoded data removed]",
      "text/plain": [
       "<Figure size 640x480 with 1 Axes>"
      ]
     },
     "metadata": {},
     "output_type": "display_data"
    }
   ],
   "source": [
    "from matplotlib import pyplot\n",
    "\n",
    "pyplot.title(\"Letters Frequency\")\n",
    "pyplot.xlabel(\"Letters\")\n",
    "pyplot.ylabel(\"Frequency\")\n",
    "labels: list[str] = list(sorted_letters_dict.keys())\n",
    "values: list[int] = list(sorted_letters_dict.values())\n",
    "pyplot.bar(labels, values)"
   ]
  }
 ],
 "metadata": {
  "kernelspec": {
   "display_name": "Python 3",
   "language": "python",
   "name": "python3"
  },
  "language_info": {
   "codemirror_mode": {
    "name": "ipython",
    "version": 3
   },
   "file_extension": ".py",
   "mimetype": "text/x-python",
   "name": "python",
   "nbconvert_exporter": "python",
   "pygments_lexer": "ipython3",
   "version": "3.11.1"
  },
  "orig_nbformat": 4
 },
 "nbformat": 4,
 "nbformat_minor": 2
}
